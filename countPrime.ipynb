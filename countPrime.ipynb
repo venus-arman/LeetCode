{
 "cells": [
  {
   "cell_type": "code",
   "execution_count": null,
   "id": "5588da6c-b793-45fa-94e7-10b2fb61a376",
   "metadata": {},
   "outputs": [],
   "source": [
    "class Solution:\n",
    "    def countPrimes(self, n: int) -> int:\n",
    "        \n",
    "        if n<2:\n",
    "            return 0\n",
    "        isPrime = [True]*n\n",
    "        isPrime[0] = isPrime[1] = False\n",
    "        \n",
    "        for i in range(2,math.ceil(math.sqrt(n))):\n",
    "            if isPrime[i]:\n",
    "                for multiples_of_i in range(i*i,n,i):\n",
    "                    isPrime[multiples_of_i] = False\n",
    "        \n",
    "        return sum(isPrime)"
   ]
  }
 ],
 "metadata": {
  "kernelspec": {
   "display_name": "Python 3 (ipykernel)",
   "language": "python",
   "name": "python3"
  },
  "language_info": {
   "codemirror_mode": {
    "name": "ipython",
    "version": 3
   },
   "file_extension": ".py",
   "mimetype": "text/x-python",
   "name": "python",
   "nbconvert_exporter": "python",
   "pygments_lexer": "ipython3",
   "version": "3.11.5"
  }
 },
 "nbformat": 4,
 "nbformat_minor": 5
}
